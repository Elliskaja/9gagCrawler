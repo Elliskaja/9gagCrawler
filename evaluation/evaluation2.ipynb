{
 "cells": [
  {
   "cell_type": "code",
   "execution_count": 1,
   "id": "80562cce-ec19-4bb0-91a1-3f2a9facf09a",
   "metadata": {},
   "outputs": [
    {
     "data": {
      "text/html": [
       "<div>\n",
       "<style scoped>\n",
       "    .dataframe tbody tr th:only-of-type {\n",
       "        vertical-align: middle;\n",
       "    }\n",
       "\n",
       "    .dataframe tbody tr th {\n",
       "        vertical-align: top;\n",
       "    }\n",
       "\n",
       "    .dataframe thead th {\n",
       "        text-align: right;\n",
       "    }\n",
       "</style>\n",
       "<table border=\"1\" class=\"dataframe\">\n",
       "  <thead>\n",
       "    <tr style=\"text-align: right;\">\n",
       "      <th></th>\n",
       "      <th>id</th>\n",
       "      <th>comment_count</th>\n",
       "      <th>upvotes</th>\n",
       "      <th>downvotes</th>\n",
       "    </tr>\n",
       "  </thead>\n",
       "  <tbody>\n",
       "    <tr>\n",
       "      <th>0</th>\n",
       "      <td>jsid-post-aDYgErK</td>\n",
       "      <td>162</td>\n",
       "      <td>1K</td>\n",
       "      <td>238</td>\n",
       "    </tr>\n",
       "    <tr>\n",
       "      <th>1</th>\n",
       "      <td>jsid-post-ago5LPK</td>\n",
       "      <td>20</td>\n",
       "      <td>399</td>\n",
       "      <td>85</td>\n",
       "    </tr>\n",
       "    <tr>\n",
       "      <th>2</th>\n",
       "      <td>jsid-post-ap95jWb</td>\n",
       "      <td>531</td>\n",
       "      <td>1K</td>\n",
       "      <td>1K</td>\n",
       "    </tr>\n",
       "    <tr>\n",
       "      <th>3</th>\n",
       "      <td>jsid-post-az21BYm</td>\n",
       "      <td>98</td>\n",
       "      <td>84</td>\n",
       "      <td>134</td>\n",
       "    </tr>\n",
       "    <tr>\n",
       "      <th>4</th>\n",
       "      <td>jsid-post-a2Kox39</td>\n",
       "      <td>761</td>\n",
       "      <td>10K</td>\n",
       "      <td>761</td>\n",
       "    </tr>\n",
       "  </tbody>\n",
       "</table>\n",
       "</div>"
      ],
      "text/plain": [
       "                  id  comment_count upvotes downvotes\n",
       "0  jsid-post-aDYgErK            162      1K       238\n",
       "1  jsid-post-ago5LPK             20     399        85\n",
       "2  jsid-post-ap95jWb            531      1K        1K\n",
       "3  jsid-post-az21BYm             98      84       134\n",
       "4  jsid-post-a2Kox39            761     10K       761"
      ]
     },
     "execution_count": 1,
     "metadata": {},
     "output_type": "execute_result"
    }
   ],
   "source": [
    "import pandas as pd\n",
    "import os\n",
    "#from wordcloud import WordCloud,STOPWORDS\n",
    "import matplotlib.pyplot as plt\n",
    "import seaborn as sns\n",
    "\n",
    "df = pd.read_excel('id_and_votes.xlsx')\n",
    "df.head()"
   ]
  },
  {
   "cell_type": "code",
   "execution_count": 2,
   "id": "c20b21fa-63fb-449b-87d0-4eb3cda7a683",
   "metadata": {},
   "outputs": [],
   "source": [
    "a = \"10K\"\n",
    "b = \"2.6K\"\n",
    "c = \"123\"\n",
    "\n",
    "def xK_votes_to_int(s):\n",
    "    if type(s) == int:\n",
    "        return s\n",
    "    if \"K\" in s:\n",
    "        s = s[:-1]\n",
    "        result = int(float(s) * 1000)\n",
    "    else:\n",
    "        result = int(s)\n",
    "    return result"
   ]
  },
  {
   "cell_type": "code",
   "execution_count": 3,
   "id": "02f9c449-130a-4f41-91d1-c42f24d6ce21",
   "metadata": {},
   "outputs": [
    {
     "ename": "KeyError",
     "evalue": "'category'",
     "output_type": "error",
     "traceback": [
      "\u001b[1;31m---------------------------------------------------------------------------\u001b[0m",
      "\u001b[1;31mKeyError\u001b[0m                                  Traceback (most recent call last)",
      "\u001b[1;32m~\\anaconda3\\lib\\site-packages\\pandas\\core\\indexes\\base.py\u001b[0m in \u001b[0;36mget_loc\u001b[1;34m(self, key, method, tolerance)\u001b[0m\n\u001b[0;32m   3360\u001b[0m             \u001b[1;32mtry\u001b[0m\u001b[1;33m:\u001b[0m\u001b[1;33m\u001b[0m\u001b[1;33m\u001b[0m\u001b[0m\n\u001b[1;32m-> 3361\u001b[1;33m                 \u001b[1;32mreturn\u001b[0m \u001b[0mself\u001b[0m\u001b[1;33m.\u001b[0m\u001b[0m_engine\u001b[0m\u001b[1;33m.\u001b[0m\u001b[0mget_loc\u001b[0m\u001b[1;33m(\u001b[0m\u001b[0mcasted_key\u001b[0m\u001b[1;33m)\u001b[0m\u001b[1;33m\u001b[0m\u001b[1;33m\u001b[0m\u001b[0m\n\u001b[0m\u001b[0;32m   3362\u001b[0m             \u001b[1;32mexcept\u001b[0m \u001b[0mKeyError\u001b[0m \u001b[1;32mas\u001b[0m \u001b[0merr\u001b[0m\u001b[1;33m:\u001b[0m\u001b[1;33m\u001b[0m\u001b[1;33m\u001b[0m\u001b[0m\n",
      "\u001b[1;32m~\\anaconda3\\lib\\site-packages\\pandas\\_libs\\index.pyx\u001b[0m in \u001b[0;36mpandas._libs.index.IndexEngine.get_loc\u001b[1;34m()\u001b[0m\n",
      "\u001b[1;32m~\\anaconda3\\lib\\site-packages\\pandas\\_libs\\index.pyx\u001b[0m in \u001b[0;36mpandas._libs.index.IndexEngine.get_loc\u001b[1;34m()\u001b[0m\n",
      "\u001b[1;32mpandas\\_libs\\hashtable_class_helper.pxi\u001b[0m in \u001b[0;36mpandas._libs.hashtable.PyObjectHashTable.get_item\u001b[1;34m()\u001b[0m\n",
      "\u001b[1;32mpandas\\_libs\\hashtable_class_helper.pxi\u001b[0m in \u001b[0;36mpandas._libs.hashtable.PyObjectHashTable.get_item\u001b[1;34m()\u001b[0m\n",
      "\u001b[1;31mKeyError\u001b[0m: 'category'",
      "\nThe above exception was the direct cause of the following exception:\n",
      "\u001b[1;31mKeyError\u001b[0m                                  Traceback (most recent call last)",
      "\u001b[1;32m~\\AppData\\Local\\Temp/ipykernel_28352/3835648241.py\u001b[0m in \u001b[0;36m<module>\u001b[1;34m\u001b[0m\n\u001b[0;32m      2\u001b[0m \u001b[0mdf\u001b[0m\u001b[1;33m[\u001b[0m\u001b[1;34m'downvotes'\u001b[0m\u001b[1;33m]\u001b[0m \u001b[1;33m=\u001b[0m \u001b[0mdf\u001b[0m\u001b[1;33m[\u001b[0m\u001b[1;34m'downvotes'\u001b[0m\u001b[1;33m]\u001b[0m\u001b[1;33m.\u001b[0m\u001b[0mapply\u001b[0m\u001b[1;33m(\u001b[0m\u001b[0mxK_votes_to_int\u001b[0m\u001b[1;33m)\u001b[0m\u001b[1;33m\u001b[0m\u001b[1;33m\u001b[0m\u001b[0m\n\u001b[0;32m      3\u001b[0m \u001b[0mdf\u001b[0m\u001b[1;33m[\u001b[0m\u001b[1;34m'comment_count'\u001b[0m\u001b[1;33m]\u001b[0m \u001b[1;33m=\u001b[0m \u001b[0mdf\u001b[0m\u001b[1;33m[\u001b[0m\u001b[1;34m'comment_count'\u001b[0m\u001b[1;33m]\u001b[0m\u001b[1;33m.\u001b[0m\u001b[0mapply\u001b[0m\u001b[1;33m(\u001b[0m\u001b[0mxK_votes_to_int\u001b[0m\u001b[1;33m)\u001b[0m\u001b[1;33m\u001b[0m\u001b[1;33m\u001b[0m\u001b[0m\n\u001b[1;32m----> 4\u001b[1;33m \u001b[0mdf_new\u001b[0m \u001b[1;33m=\u001b[0m \u001b[0mdf\u001b[0m\u001b[1;33m[\u001b[0m\u001b[1;34m'category'\u001b[0m\u001b[1;33m]\u001b[0m\u001b[1;33m.\u001b[0m\u001b[0mstr\u001b[0m\u001b[1;33m.\u001b[0m\u001b[0msplit\u001b[0m\u001b[1;33m(\u001b[0m\u001b[1;34m\"_\"\u001b[0m\u001b[1;33m,\u001b[0m \u001b[0mn\u001b[0m \u001b[1;33m=\u001b[0m \u001b[1;36m1\u001b[0m\u001b[1;33m,\u001b[0m \u001b[0mexpand\u001b[0m \u001b[1;33m=\u001b[0m \u001b[1;32mTrue\u001b[0m\u001b[1;33m)\u001b[0m\u001b[1;33m\u001b[0m\u001b[1;33m\u001b[0m\u001b[0m\n\u001b[0m\u001b[0;32m      5\u001b[0m \u001b[0mdf\u001b[0m\u001b[1;33m[\u001b[0m\u001b[1;34m'category_content'\u001b[0m\u001b[1;33m]\u001b[0m \u001b[1;33m=\u001b[0m \u001b[0mdf_new\u001b[0m\u001b[1;33m[\u001b[0m\u001b[1;36m0\u001b[0m\u001b[1;33m]\u001b[0m\u001b[1;33m\u001b[0m\u001b[1;33m\u001b[0m\u001b[0m\n\u001b[0;32m      6\u001b[0m \u001b[0mdf\u001b[0m\u001b[1;33m[\u001b[0m\u001b[1;34m'category_orientation'\u001b[0m\u001b[1;33m]\u001b[0m \u001b[1;33m=\u001b[0m \u001b[0mdf_new\u001b[0m\u001b[1;33m[\u001b[0m\u001b[1;36m1\u001b[0m\u001b[1;33m]\u001b[0m\u001b[1;33m\u001b[0m\u001b[1;33m\u001b[0m\u001b[0m\n",
      "\u001b[1;32m~\\anaconda3\\lib\\site-packages\\pandas\\core\\frame.py\u001b[0m in \u001b[0;36m__getitem__\u001b[1;34m(self, key)\u001b[0m\n\u001b[0;32m   3456\u001b[0m             \u001b[1;32mif\u001b[0m \u001b[0mself\u001b[0m\u001b[1;33m.\u001b[0m\u001b[0mcolumns\u001b[0m\u001b[1;33m.\u001b[0m\u001b[0mnlevels\u001b[0m \u001b[1;33m>\u001b[0m \u001b[1;36m1\u001b[0m\u001b[1;33m:\u001b[0m\u001b[1;33m\u001b[0m\u001b[1;33m\u001b[0m\u001b[0m\n\u001b[0;32m   3457\u001b[0m                 \u001b[1;32mreturn\u001b[0m \u001b[0mself\u001b[0m\u001b[1;33m.\u001b[0m\u001b[0m_getitem_multilevel\u001b[0m\u001b[1;33m(\u001b[0m\u001b[0mkey\u001b[0m\u001b[1;33m)\u001b[0m\u001b[1;33m\u001b[0m\u001b[1;33m\u001b[0m\u001b[0m\n\u001b[1;32m-> 3458\u001b[1;33m             \u001b[0mindexer\u001b[0m \u001b[1;33m=\u001b[0m \u001b[0mself\u001b[0m\u001b[1;33m.\u001b[0m\u001b[0mcolumns\u001b[0m\u001b[1;33m.\u001b[0m\u001b[0mget_loc\u001b[0m\u001b[1;33m(\u001b[0m\u001b[0mkey\u001b[0m\u001b[1;33m)\u001b[0m\u001b[1;33m\u001b[0m\u001b[1;33m\u001b[0m\u001b[0m\n\u001b[0m\u001b[0;32m   3459\u001b[0m             \u001b[1;32mif\u001b[0m \u001b[0mis_integer\u001b[0m\u001b[1;33m(\u001b[0m\u001b[0mindexer\u001b[0m\u001b[1;33m)\u001b[0m\u001b[1;33m:\u001b[0m\u001b[1;33m\u001b[0m\u001b[1;33m\u001b[0m\u001b[0m\n\u001b[0;32m   3460\u001b[0m                 \u001b[0mindexer\u001b[0m \u001b[1;33m=\u001b[0m \u001b[1;33m[\u001b[0m\u001b[0mindexer\u001b[0m\u001b[1;33m]\u001b[0m\u001b[1;33m\u001b[0m\u001b[1;33m\u001b[0m\u001b[0m\n",
      "\u001b[1;32m~\\anaconda3\\lib\\site-packages\\pandas\\core\\indexes\\base.py\u001b[0m in \u001b[0;36mget_loc\u001b[1;34m(self, key, method, tolerance)\u001b[0m\n\u001b[0;32m   3361\u001b[0m                 \u001b[1;32mreturn\u001b[0m \u001b[0mself\u001b[0m\u001b[1;33m.\u001b[0m\u001b[0m_engine\u001b[0m\u001b[1;33m.\u001b[0m\u001b[0mget_loc\u001b[0m\u001b[1;33m(\u001b[0m\u001b[0mcasted_key\u001b[0m\u001b[1;33m)\u001b[0m\u001b[1;33m\u001b[0m\u001b[1;33m\u001b[0m\u001b[0m\n\u001b[0;32m   3362\u001b[0m             \u001b[1;32mexcept\u001b[0m \u001b[0mKeyError\u001b[0m \u001b[1;32mas\u001b[0m \u001b[0merr\u001b[0m\u001b[1;33m:\u001b[0m\u001b[1;33m\u001b[0m\u001b[1;33m\u001b[0m\u001b[0m\n\u001b[1;32m-> 3363\u001b[1;33m                 \u001b[1;32mraise\u001b[0m \u001b[0mKeyError\u001b[0m\u001b[1;33m(\u001b[0m\u001b[0mkey\u001b[0m\u001b[1;33m)\u001b[0m \u001b[1;32mfrom\u001b[0m \u001b[0merr\u001b[0m\u001b[1;33m\u001b[0m\u001b[1;33m\u001b[0m\u001b[0m\n\u001b[0m\u001b[0;32m   3364\u001b[0m \u001b[1;33m\u001b[0m\u001b[0m\n\u001b[0;32m   3365\u001b[0m         \u001b[1;32mif\u001b[0m \u001b[0mis_scalar\u001b[0m\u001b[1;33m(\u001b[0m\u001b[0mkey\u001b[0m\u001b[1;33m)\u001b[0m \u001b[1;32mand\u001b[0m \u001b[0misna\u001b[0m\u001b[1;33m(\u001b[0m\u001b[0mkey\u001b[0m\u001b[1;33m)\u001b[0m \u001b[1;32mand\u001b[0m \u001b[1;32mnot\u001b[0m \u001b[0mself\u001b[0m\u001b[1;33m.\u001b[0m\u001b[0mhasnans\u001b[0m\u001b[1;33m:\u001b[0m\u001b[1;33m\u001b[0m\u001b[1;33m\u001b[0m\u001b[0m\n",
      "\u001b[1;31mKeyError\u001b[0m: 'category'"
     ]
    }
   ],
   "source": [
    "df['upvotes'] = df['upvotes'].apply(xK_votes_to_int)\n",
    "df['downvotes'] = df['downvotes'].apply(xK_votes_to_int)\n",
    "df['comment_count'] = df['comment_count'].apply(xK_votes_to_int)\n",
    "df_new = df['category'].str.split(\"_\", n = 1, expand = True)\n",
    "df['category_content'] = df_new[0]\n",
    "df['category_orientation'] = df_new[1]\n",
    "df.head()"
   ]
  },
  {
   "cell_type": "code",
   "execution_count": null,
   "id": "1f0869c5-712b-480b-8daa-ee80bf8d34a0",
   "metadata": {},
   "outputs": [],
   "source": [
    "df['vote_ratio'] = df['upvotes'] - df['downvotes']\n",
    "df.head()"
   ]
  },
  {
   "cell_type": "code",
   "execution_count": null,
   "id": "0177a4b9-2ed5-4c60-a60c-56ca142e21cd",
   "metadata": {},
   "outputs": [],
   "source": [
    "fig = plt.figure(figsize = (10,5))\n",
    "#plt.gca().set_ylim(-100, 100)\n",
    "sns.stripplot(data = df, x = 'category', y = 'vote_ratio')\n",
    "plt.xticks(rotation = 45, ha = 'right')\n",
    "print()"
   ]
  },
  {
   "cell_type": "code",
   "execution_count": null,
   "id": "6b2a97fa-191c-4d8d-8d04-3e7791207e50",
   "metadata": {},
   "outputs": [],
   "source": [
    "df_temp = df.copy()\n",
    "df_temp['downvotes_inverse'] = -df['downvotes']\n",
    "df_temp = df_temp.sort_values(by = \"upvotes\", ascending = False)\n",
    "min_upvotes = 150\n",
    "df_temp = df_temp[df_temp['upvotes'] >= min_upvotes]\n",
    "\n",
    "upvote_color = 'blue'\n",
    "downvote_color = 'red'\n",
    "comment_color = 'green'\n",
    "\n",
    "fig = plt.figure(figsize = (20,10))\n",
    "#plt.gca().set_xlim(0, 20)\n",
    "sns.barplot(data = df_temp, x = 'id', y = 'upvotes', color = upvote_color)\n",
    "sns.barplot(data = df_temp, x = 'id', y = 'downvotes_inverse', color = downvote_color)\n",
    "sns.barplot(data = df_temp, x = 'id', y = 'comment_count', color = comment_color)\n",
    "plt.xticks(rotation = 90, ha = 'center')\n",
    "print()"
   ]
  },
  {
   "cell_type": "code",
   "execution_count": null,
   "id": "1c2fed5a-c384-46a2-b8bd-f9f2492da92e",
   "metadata": {},
   "outputs": [],
   "source": [
    "df_temp = df.copy()\n",
    "df_temp['downvotes_inverse'] = -df['downvotes']\n",
    "df_temp = df_temp.sort_values(by = \"upvotes\", ascending = False)\n",
    "min_upvotes = 150\n",
    "df_temp = df_temp[df_temp['upvotes'] <= min_upvotes]\n",
    "\n",
    "upvote_color = 'blue'\n",
    "downvote_color = 'red'\n",
    "comment_color = 'green'\n",
    "\n",
    "fig = plt.figure(figsize = (20,10))\n",
    "#plt.gca().set_xlim(0, 20)\n",
    "sns.barplot(data = df_temp, x = 'id', y = 'upvotes', color = upvote_color)\n",
    "sns.barplot(data = df_temp, x = 'id', y = 'downvotes_inverse', color = downvote_color)\n",
    "sns.barplot(data = df_temp, x = 'id', y = 'comment_count', color = comment_color)\n",
    "plt.xticks(rotation = 90, ha = 'center')\n",
    "print()"
   ]
  },
  {
   "cell_type": "code",
   "execution_count": null,
   "id": "290229d0-eced-4d89-b20c-6f38d73dd8cf",
   "metadata": {},
   "outputs": [],
   "source": [
    "df_temp = df.copy()\n",
    "df_temp['downvotes_inverse'] = -df['downvotes']\n",
    "df_temp = df_temp.sort_values(by = \"upvotes\", ascending = False)\n",
    "min_upvotes = 150\n",
    "df_temp = df_temp[df_temp['upvotes'] >= min_upvotes]\n",
    "\n",
    "upvote_color = 'blue'\n",
    "downvote_color = 'red'\n",
    "comment_color = 'green'\n",
    "\n",
    "fig = plt.figure(figsize = (20,10))\n",
    "#plt.gca().set_xlim(0, 20)\n",
    "sns.barplot(data = df_temp, x = 'id', y = 'upvotes', hue = 'category', dodge = False, palette = 'turbo')\n",
    "sns.barplot(data = df_temp, x = 'id', y = 'downvotes_inverse', color = downvote_color)\n",
    "sns.barplot(data = df_temp, x = 'id', y = 'comment_count', color = comment_color)\n",
    "plt.xticks(rotation = 90, ha = 'center')\n",
    "print()"
   ]
  },
  {
   "cell_type": "code",
   "execution_count": null,
   "id": "b2cf0ee6-56c7-4a60-8c46-a4bbe74728dd",
   "metadata": {},
   "outputs": [],
   "source": [
    "df_temp = df.copy()\n",
    "df_temp['downvotes_inverse'] = -df['downvotes']\n",
    "df_temp = df_temp.sort_values(by = \"upvotes\", ascending = False)\n",
    "min_upvotes = 150\n",
    "df_temp = df_temp[df_temp['upvotes'] >= min_upvotes]\n",
    "\n",
    "upvote_color = 'blue'\n",
    "downvote_color = 'red'\n",
    "comment_color = 'green'\n",
    "\n",
    "fig = plt.figure(figsize = (20,10))\n",
    "#plt.gca().set_xlim(0, 20)\n",
    "sns.barplot(data = df_temp, x = 'id', y = 'upvotes', hue = 'category_content', dodge = False, palette = 'turbo')\n",
    "sns.barplot(data = df_temp, x = 'id', y = 'downvotes_inverse', color = downvote_color)\n",
    "sns.barplot(data = df_temp, x = 'id', y = 'comment_count', color = comment_color)\n",
    "plt.xticks(rotation = 90, ha = 'center')\n",
    "print()"
   ]
  },
  {
   "cell_type": "code",
   "execution_count": null,
   "id": "e0b95923-edca-4d47-91df-5781ab49a6f2",
   "metadata": {},
   "outputs": [],
   "source": [
    "df_temp = df.copy()\n",
    "df_temp['downvotes_inverse'] = -df['downvotes']\n",
    "df_temp = df_temp.sort_values(by = \"upvotes\", ascending = False)\n",
    "min_upvotes = 150\n",
    "df_temp = df_temp[df_temp['upvotes'] >= min_upvotes]\n",
    "\n",
    "upvote_color = 'blue'\n",
    "downvote_color = 'red'\n",
    "comment_color = 'green'\n",
    "\n",
    "fig = plt.figure(figsize = (20,10))\n",
    "#plt.gca().set_xlim(0, 20)\n",
    "sns.barplot(data = df_temp, x = 'id', y = 'upvotes', hue = 'category_orientation', dodge = False, palette = 'turbo')\n",
    "sns.barplot(data = df_temp, x = 'id', y = 'downvotes_inverse', color = downvote_color)\n",
    "sns.barplot(data = df_temp, x = 'id', y = 'comment_count', color = comment_color)\n",
    "plt.xticks(rotation = 90, ha = 'center')\n",
    "print()"
   ]
  },
  {
   "cell_type": "code",
   "execution_count": null,
   "id": "059d6664-d949-4935-84ba-905204a8ef00",
   "metadata": {},
   "outputs": [],
   "source": []
  }
 ],
 "metadata": {
  "kernelspec": {
   "display_name": "Python 3 (ipykernel)",
   "language": "python",
   "name": "python3"
  },
  "language_info": {
   "codemirror_mode": {
    "name": "ipython",
    "version": 3
   },
   "file_extension": ".py",
   "mimetype": "text/x-python",
   "name": "python",
   "nbconvert_exporter": "python",
   "pygments_lexer": "ipython3",
   "version": "3.9.7"
  }
 },
 "nbformat": 4,
 "nbformat_minor": 5
}
